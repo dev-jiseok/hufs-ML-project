{
 "cells": [
  {
   "cell_type": "code",
   "execution_count": null,
   "metadata": {},
   "outputs": [],
   "source": [
    "import torch, torchvision\n",
    "import torch.nn as nn\n",
    "import torch.nn.functional as F\n",
    "import torchvision.transforms as transforms\n"
   ]
  },
  {
   "cell_type": "code",
   "execution_count": null,
   "metadata": {},
   "outputs": [],
   "source": [
    "class ConvNet(nn.Module):\n",
    "    def __init__(self, num_classes=10):\n",
    "        super(ConvNet, self).__init__()\n",
    "        self.layer1 = nn.Sequential(nn.Conv2d(in_channels=1, out_channels = 16, kernel_size = 5, stride = 1, padding =2),\n",
    "                                    nn.ReLU(),\n",
    "                                    nn.MaxPool2d(kernel_size=2, stride = 2))\n",
    "        self.layer2 = nn.Sequential(nn.Conv2d(in_channels=16, out_channels = 32, kernel_size = 5, stride = 1, padding =2),\n",
    "                                    nn.ReLU(),\n",
    "                                    nn.MaxPool2d(kernel_size=2, stride = 2))\n",
    "        self.fc = nn.Linear(7 * 7 * 32, num_classes)\n",
    "    def forward(self, x):\n",
    "        out = self.layer1(x)\n",
    "        out = self.layer2(out)\n",
    "        flatten = out.reshape(out.size(0), -1)\n",
    "        score = self.fc(flatten)\n",
    "        prob = F.softmax(score, dim=1)\n",
    "        return prob"
   ]
  },
  {
   "cell_type": "code",
   "execution_count": null,
   "metadata": {},
   "outputs": [],
   "source": [
    "num_epochs, num_classes, batch_size, learning_rate = 10, 10, 100, 0.1\n",
    "# train test data 지정\n",
    "train_dataset = torchvision.datasets.MNIST(root='./data', train = True, transform=transforms.ToTensor(), download = True)\n",
    "test_dataset = torchvision.datasets.MNIST(root='./data', train = False, transform=transform.ToTensor())\n",
    "train_loader = torch.utils.data.DataLoader(dataset=test_dataset, batch_size=batch_size, shuffle=True)\n",
    "test_loader = torch.utils.data.DataLoader(dataset=test_dataset, batch_size=batch_size, shuffle=False)\n",
    "\n",
    "model = ConvNet()\n",
    "criterion = nn.CrossEntropyLoss()\n",
    "optimizer = torch.optim.SGD(model.parameters(), lr=learning_rate)\n",
    "\n",
    "for epoch in range(num_epochs):\n",
    "    for i, (images, labels) in enumerate(train_loader):\n",
    "        outputs = model(images)\n",
    "        loss = criterion(outputs, labels)\n",
    "        optimizer.zero_grad()\n",
    "        loss.backward()\n",
    "        optimizer.step()\n",
    "        _, predicted = torch.max(outputs.data, 1)\n",
    "        correct = (predicted == labels).sum().item()\n",
    "        if(i+1) % 100 == 0:\n",
    "            print('Epoch: {}/{}, Batch Step: {}/{}, Loss: {:.4f}, Training Accuracy of the Current Batch: {}%'.\n",
    "            format(epoch+1, num_epochs, i+1, train_loader.__len__(), loss.item(), 100 * correct / batch_size))"
   ]
  },
  {
   "cell_type": "code",
   "execution_count": null,
   "metadata": {},
   "outputs": [],
   "source": [
    "model.eval ()\n",
    "with torch.no_grad):\n",
    "  total, correct = 0, 0\n",
    "  for images, labels in test_loader:\n",
    "    outputs = model (images)\n",
    "    _, predicted = torch. max(outputs. data, 1)\n",
    "    total += labels.size (0)\n",
    "    correct += (predicted == labels) .sum() .item ()\n",
    "  print ('Test Accuracy of the 10,000 Test Images: {]%'. format (100 * correct / total))\n",
    "torch. save (model.state_dict (), 'cnn.pt')"
   ]
  },
  {
   "cell_type": "code",
   "execution_count": null,
   "metadata": {},
   "outputs": [],
   "source": [
    "batch_size = 1\n",
    "\n",
    "test_dataset = torchvision.datasets.MNIST(root='./data', train=False, transform=transforms. ToTensor ())\n",
    "test_loader = torch. utils. data. DataLoader (dataset=test_dataset, batch_size=batch_size, shuffle=False)\n",
    "\n",
    "model = ConvNet ()\n",
    "model. load_state_dict (torch. load('cnn.pt' ))"
   ]
  }
 ],
 "metadata": {
  "language_info": {
   "name": "python"
  },
  "orig_nbformat": 4
 },
 "nbformat": 4,
 "nbformat_minor": 2
}
