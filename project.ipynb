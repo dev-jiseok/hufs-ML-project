{
 "cells": [
  {
   "cell_type": "code",
   "execution_count": 45,
   "metadata": {},
   "outputs": [],
   "source": [
    "import torch, torchvision\n",
    "import torch.nn as nn\n",
    "import torch.nn.functional as F\n",
    "import torchvision.transforms as transforms\n"
   ]
  },
  {
   "cell_type": "code",
   "execution_count": 46,
   "metadata": {},
   "outputs": [],
   "source": [
    "class ConvNet(nn.Module):\n",
    "    def __init__(self, num_classes=10):\n",
    "        super(ConvNet, self).__init__()\n",
    "        self.layer1 = nn.Sequential(nn.Conv2d(in_channels=1, out_channels = 16, kernel_size = 5, stride = 1, padding =2),\n",
    "                                    nn.ReLU(),\n",
    "                                    nn.MaxPool2d(kernel_size=2, stride = 2))\n",
    "        self.layer2 = nn.Sequential(nn.Conv2d(in_channels=16, out_channels = 32, kernel_size = 5, stride = 1, padding =2),\n",
    "                                    nn.ReLU(),\n",
    "                                    nn.MaxPool2d(kernel_size=2, stride = 2))\n",
    "        self.fc = nn.Linear(7 * 7 * 32, num_classes)\n",
    "    def forward(self, x):\n",
    "        out = self.layer1(x)\n",
    "        out = self.layer2(out)\n",
    "        flatten = out.reshape(out.size(0), -1)\n",
    "        score = self.fc(flatten)\n",
    "        prob = F.softmax(score, dim=1)\n",
    "        return prob"
   ]
  },
  {
   "cell_type": "code",
   "execution_count": 47,
   "metadata": {},
   "outputs": [
    {
     "name": "stdout",
     "output_type": "stream",
     "text": [
      "Epoch: 1/10, Batch Step: 100/100, Loss: 2.2590, Training Accuracy of the Current Batch: 17.0%\n",
      "Epoch: 2/10, Batch Step: 100/100, Loss: 1.8445, Training Accuracy of the Current Batch: 61.0%\n",
      "Epoch: 3/10, Batch Step: 100/100, Loss: 1.6648, Training Accuracy of the Current Batch: 81.0%\n",
      "Epoch: 4/10, Batch Step: 100/100, Loss: 1.5602, Training Accuracy of the Current Batch: 92.0%\n",
      "Epoch: 5/10, Batch Step: 100/100, Loss: 1.5728, Training Accuracy of the Current Batch: 90.0%\n",
      "Epoch: 6/10, Batch Step: 100/100, Loss: 1.5235, Training Accuracy of the Current Batch: 94.0%\n",
      "Epoch: 7/10, Batch Step: 100/100, Loss: 1.5094, Training Accuracy of the Current Batch: 96.0%\n",
      "Epoch: 8/10, Batch Step: 100/100, Loss: 1.5122, Training Accuracy of the Current Batch: 96.0%\n",
      "Epoch: 9/10, Batch Step: 100/100, Loss: 1.5262, Training Accuracy of the Current Batch: 93.0%\n",
      "Epoch: 10/10, Batch Step: 100/100, Loss: 1.4849, Training Accuracy of the Current Batch: 98.0%\n"
     ]
    }
   ],
   "source": [
    "num_epochs, num_classes, batch_size, learning_rate = 10, 10, 100, 0.1\n",
    "# train test data 지정\n",
    "train_dataset = torchvision.datasets.MNIST(root='./data', train = True, transform=transforms.ToTensor(), download = True)\n",
    "test_dataset = torchvision.datasets.MNIST(root='./data', train = False, transform=transforms.ToTensor())\n",
    "train_loader = torch.utils.data.DataLoader(dataset=test_dataset, batch_size=batch_size, shuffle=True)\n",
    "test_loader = torch.utils.data.DataLoader(dataset=test_dataset, batch_size=batch_size, shuffle=False)\n",
    "\n",
    "model = ConvNet()\n",
    "criterion = nn.CrossEntropyLoss()\n",
    "optimizer = torch.optim.SGD(model.parameters(), lr=learning_rate)\n",
    "\n",
    "for epoch in range(num_epochs):\n",
    "    for i, (images, labels) in enumerate(train_loader):\n",
    "        outputs = model(images)\n",
    "        loss = criterion(outputs, labels)\n",
    "        optimizer.zero_grad()\n",
    "        loss.backward()\n",
    "        optimizer.step()\n",
    "        _, predicted = torch.max(outputs.data, 1)\n",
    "        correct = (predicted == labels).sum().item()\n",
    "        if(i+1) % 100 == 0:\n",
    "            print('Epoch: {}/{}, Batch Step: {}/{}, Loss: {:.4f}, Training Accuracy of the Current Batch: {}%'.\n",
    "            format(epoch+1, num_epochs, i+1, train_loader.__len__(), loss.item(), 100 * correct / batch_size))"
   ]
  },
  {
   "cell_type": "code",
   "execution_count": 48,
   "metadata": {},
   "outputs": [
    {
     "name": "stdout",
     "output_type": "stream",
     "text": [
      "Test Accuracy of the 10,000 Test Images: 96.16%\n"
     ]
    }
   ],
   "source": [
    "model.eval ()\n",
    "with torch.no_grad():\n",
    "  total, correct = 0, 0\n",
    "  for images, labels in test_loader:\n",
    "    outputs = model (images)\n",
    "    _, predicted = torch. max(outputs. data, 1)\n",
    "    total += labels.size (0)\n",
    "    correct += (predicted == labels) .sum() .item ()\n",
    "  print ('Test Accuracy of the 10,000 Test Images: {}%'. format (100 * correct / total))\n",
    "torch. save (model.state_dict (), 'cnn.pt')"
   ]
  },
  {
   "cell_type": "code",
   "execution_count": 49,
   "metadata": {},
   "outputs": [
    {
     "data": {
      "text/plain": [
       "<All keys matched successfully>"
      ]
     },
     "execution_count": 49,
     "metadata": {},
     "output_type": "execute_result"
    }
   ],
   "source": [
    "batch_size = 1\n",
    "\n",
    "test_dataset = torchvision.datasets.MNIST(root='./data', train=False, transform=transforms. ToTensor ())\n",
    "test_loader = torch. utils. data. DataLoader (dataset=test_dataset, batch_size=batch_size, shuffle=False)\n",
    "\n",
    "model = ConvNet ()\n",
    "model. load_state_dict (torch. load('cnn.pt' ))"
   ]
  },
  {
   "cell_type": "code",
   "execution_count": null,
   "metadata": {},
   "outputs": [],
   "source": []
  }
 ],
 "metadata": {
  "kernelspec": {
   "display_name": "Python 3",
   "language": "python",
   "name": "python3"
  },
  "language_info": {
   "codemirror_mode": {
    "name": "ipython",
    "version": 3
   },
   "file_extension": ".py",
   "mimetype": "text/x-python",
   "name": "python",
   "nbconvert_exporter": "python",
   "pygments_lexer": "ipython3",
   "version": "3.8.5"
  },
  "orig_nbformat": 4,
  "vscode": {
   "interpreter": {
    "hash": "aee8b7b246df8f9039afb4144a1f6fd8d2ca17a180786b69acc140d282b71a49"
   }
  }
 },
 "nbformat": 4,
 "nbformat_minor": 2
}
